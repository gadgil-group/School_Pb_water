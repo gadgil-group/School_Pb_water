{
  "nbformat": 4,
  "nbformat_minor": 0,
  "metadata": {
    "colab": {
      "provenance": [],
      "authorship_tag": "ABX9TyOE56vc5aOxBl5jNoug/zTH",
      "include_colab_link": true
    },
    "kernelspec": {
      "name": "python3",
      "display_name": "Python 3"
    },
    "language_info": {
      "name": "python"
    }
  },
  "cells": [
    {
      "cell_type": "markdown",
      "metadata": {
        "id": "view-in-github",
        "colab_type": "text"
      },
      "source": [
        "<a href=\"https://colab.research.google.com/github/gadgil-group/School_Pb_water/blob/main/NY_Preprocessing.ipynb\" target=\"_parent\"><img src=\"https://colab.research.google.com/assets/colab-badge.svg\" alt=\"Open In Colab\"/></a>"
      ]
    },
    {
      "cell_type": "code",
      "execution_count": null,
      "metadata": {
        "colab": {
          "base_uri": "https://localhost:8080/"
        },
        "id": "k1vRCaq24aCh",
        "outputId": "5027233d-0b5c-4753-b466-1dc9b614b481"
      },
      "outputs": [
        {
          "output_type": "stream",
          "name": "stdout",
          "text": [
            "Drive already mounted at /content/drive; to attempt to forcibly remount, call drive.mount(\"/content/drive\", force_remount=True).\n",
            "Collecting censusdata\n",
            "  Downloading CensusData-1.15.tar.gz (26.6 MB)\n",
            "\u001b[K     |████████████████████████████████| 26.6 MB 1.3 MB/s \n",
            "\u001b[?25hRequirement already satisfied: pandas in /usr/local/lib/python3.7/dist-packages (from censusdata) (1.3.5)\n",
            "Requirement already satisfied: requests in /usr/local/lib/python3.7/dist-packages (from censusdata) (2.23.0)\n",
            "Requirement already satisfied: python-dateutil>=2.7.3 in /usr/local/lib/python3.7/dist-packages (from pandas->censusdata) (2.8.2)\n",
            "Requirement already satisfied: pytz>=2017.3 in /usr/local/lib/python3.7/dist-packages (from pandas->censusdata) (2018.9)\n",
            "Requirement already satisfied: numpy>=1.17.3 in /usr/local/lib/python3.7/dist-packages (from pandas->censusdata) (1.19.5)\n",
            "Requirement already satisfied: six>=1.5 in /usr/local/lib/python3.7/dist-packages (from python-dateutil>=2.7.3->pandas->censusdata) (1.15.0)\n",
            "Requirement already satisfied: urllib3!=1.25.0,!=1.25.1,<1.26,>=1.21.1 in /usr/local/lib/python3.7/dist-packages (from requests->censusdata) (1.24.3)\n",
            "Requirement already satisfied: certifi>=2017.4.17 in /usr/local/lib/python3.7/dist-packages (from requests->censusdata) (2021.10.8)\n",
            "Requirement already satisfied: chardet<4,>=3.0.2 in /usr/local/lib/python3.7/dist-packages (from requests->censusdata) (3.0.4)\n",
            "Requirement already satisfied: idna<3,>=2.5 in /usr/local/lib/python3.7/dist-packages (from requests->censusdata) (2.10)\n",
            "Building wheels for collected packages: censusdata\n",
            "  Building wheel for censusdata (setup.py) ... \u001b[?25l\u001b[?25hdone\n",
            "  Created wheel for censusdata: filename=CensusData-1.15-py3-none-any.whl size=28205534 sha256=68790bf407900eadf3583e3285d87f8df40f11a320e94d3e26e215c869c796bc\n",
            "  Stored in directory: /root/.cache/pip/wheels/17/11/8c/933901298f486bd414f2ab1a62a114085f7d7a19dcbda2dd08\n",
            "Successfully built censusdata\n",
            "Installing collected packages: censusdata\n",
            "Successfully installed censusdata-1.15\n"
          ]
        }
      ],
      "source": [
        "import pandas as pd\n",
        "from google.colab import drive\n",
        "from sklearn.neighbors import DistanceMetric\n",
        "\n",
        "import numpy as np\n",
        "from sklearn.impute import SimpleImputer\n",
        "from sklearn.model_selection import train_test_split\n",
        "from sklearn.ensemble import RandomForestClassifier\n",
        "from sklearn.metrics import roc_auc_score\n",
        "from sklearn.metrics import accuracy_score\n",
        "from sklearn import preprocessing\n",
        "#import scikitplot as skplt\n",
        "import matplotlib.pyplot as plt\n",
        "from sklearn.utils import resample\n",
        "from sklearn.utils import resample\n",
        "from random import seed\n",
        "from random import randint\n",
        "from sklearn.metrics import roc_curve, auc, precision_recall_curve, plot_precision_recall_curve, average_precision_score\n",
        "from numpy import argmax\n",
        "from sklearn.metrics import precision_recall_curve, average_precision_score, auc\n",
        "from sklearn.model_selection import cross_val_score\n",
        "from sklearn.metrics import classification_report, confusion_matrix\n",
        "from sklearn.model_selection import ShuffleSplit\n",
        "import numpy as np\n",
        "import matplotlib.pyplot as plt\n",
        "from sklearn.datasets import make_classification\n",
        "from sklearn.ensemble import ExtraTreesClassifier\n",
        "import os\n",
        "import seaborn as sns\n",
        "from random import sample\n",
        "from sklearn.linear_model import LogisticRegression\n",
        "from sklearn import tree\n",
        "from sklearn.ensemble import RandomForestClassifier\n",
        "from sklearn.svm import SVC\n",
        "from sklearn.neighbors import KNeighborsClassifier\n",
        "from sklearn.naive_bayes import GaussianNB\n",
        "from sklearn.model_selection import cross_val_score\n",
        "from sklearn import metrics\n",
        "from IPython.display import Image\n",
        "from pydotplus import graph_from_dot_data\n",
        "from sklearn.utils import shuffle\n",
        "from sklearn.base import clone\n",
        "from sklearn.neural_network import MLPClassifier\n",
        "drive.mount('/content/drive')\n",
        "!pip install censusdata\n",
        "import censusdata\n"
      ]
    },
    {
      "cell_type": "code",
      "source": [
        "Pb_data = pd.read_csv('/content/drive/My Drive/data/NY dataset 2016.csv')\n",
        "state_ny = scrape_state_data('36')"
      ],
      "metadata": {
        "id": "x42EkejL408y"
      },
      "execution_count": null,
      "outputs": []
    },
    {
      "cell_type": "code",
      "source": [
        "\n",
        "Pb_data_merged = Pb_data.merge(right=state_ny, left_on='zip code', right_index=True)"
      ],
      "metadata": {
        "id": "k8oPvrwdWX98"
      },
      "execution_count": null,
      "outputs": []
    },
    {
      "cell_type": "code",
      "source": [
        "Pb_data_merged.to_csv('/content/drive/My Drive/data/NY dataset full.csv', index=False)"
      ],
      "metadata": {
        "id": "xXkA5soHYzPI"
      },
      "execution_count": null,
      "outputs": []
    },
    {
      "cell_type": "code",
      "source": [
        "Pb_data['zip code'] = Pb_data['Location'].str.extract('(\\d{5})')\n",
        "Pb_data['lat'] = Pb_data['Location'].str.extract('\\((\\d+.\\d+)')\n",
        "Pb_data['lon'] = Pb_data['Location'].str.extract('([{\\-\\d+\\.\\-}]+)\\)')\n",
        "\n"
      ],
      "metadata": {
        "id": "juSbGL1B49KR"
      },
      "execution_count": null,
      "outputs": []
    },
    {
      "cell_type": "code",
      "source": [
        "def scrape_state_data(state_code):\n",
        "  relevant_tables=[]\n",
        "# Poverty by age:\n",
        "  relevant_tables+=['B17020_'+str(i).zfill(3)+'E' for i  in range(1, 18)]\n",
        "# Voting-age Population by Educational Attainment\n",
        "  relevant_tables+=['B17020_'+str(i).zfill(3)+'E' for i in range(1, 9)]\n",
        "# Voting age by poverty\n",
        "  relevant_tables+=['B29003_'+str(i).zfill(3)+'E' for i in range(1, 4)]\n",
        "# Estimate!!Median household income in the past 12 months (in 2019 inflation-adjusted dollars)\n",
        "  relevant_tables+=['B29004_001E']\n",
        "#Sex by age\n",
        "  relevant_tables+=['B01001_026E', 'B01001_002E']\n",
        "#Race\n",
        "  relevant_tables+=['B02001_'+str(i).zfill(3)+'E' for i in range(1, 11)]\n",
        "#POVERTY STATUS IN THE PAST 12 MONTHS BY AGE BY LANGUAGE SPOKEN AT HOME FOR THE POPULATION 5 YEARS AND OVER\t\n",
        "  relevant_tables+=['B16009_'+str(i).zfill(3)+'E' for i in range(1, 28)]\n",
        "#POVERTY STATUS IN THE PAST 12 MONTHS OF FAMILIES BY HOUSEHOLD TYPE BY TENURE\n",
        "  relevant_tables+=['B17019_'+str(i).zfill(3)+'E' for i in range(1, 24)]\n",
        "#POVERTY STATUS OF INDIVIDUALS IN THE PAST 12 MONTHS BY LIVING ARRANGEMENT\n",
        "  relevant_tables+=['B17021_'+str(i).zfill(3)+'E' for i in range(1, 36)]\n",
        "#MEDIAN INCOME IN THE PAST 12 MONTHS (IN 2019 INFLATION-ADJUSTED DOLLARS) BY VETERAN STATUS BY SEX FOR THE CIVILIAN POPULATION 18 YEARS AND OVER WITH INCOME\n",
        "  relevant_tables+=['B21004_'+str(i).zfill(3)+'E' for i in range(1, 8)]\n",
        "#SEX BY AGE BY EMPLOYMENT STATUS FOR THE POPULATION 16 YEARS AND OVER\n",
        "  relevant_tables+=['B21004_'+str(i).zfill(3)+'E' for i in range(1, 8)]\n",
        "#POVERTY STATUS IN THE PAST 12 MONTHS OF INDIVIDUALS BY SEX BY EMPLOYMENT STATUS\n",
        "  relevant_tables+=['B17005_'+str(i).zfill(3)+'E' for i in range(1, 17)]\n",
        "#Gini index\n",
        "  relevant_tables+=['B19083_001E']\n",
        "#FAMILY INCOME IN THE PAST 12 MONTHS (IN 2019 INFLATION-ADJUSTED DOLLARS)\n",
        "  relevant_tables+=['B19101_'+str(i).zfill(3)+'E' for i in range(1, 18)]\n",
        "  state_data = censusdata.download('acs/acs5', 2019, censusdata.censusgeo([('state', state_code), ('zip code tabulation area', '*')]), relevant_tables)\n",
        "  new_indices = []\n",
        "  for index in state_data.index.tolist():\n",
        "          new_index = index.geo[1][1] \n",
        "          new_indices.append(new_index)\n",
        "  state_data.index = new_indices\n",
        "  return state_data"
      ],
      "metadata": {
        "id": "Jqhgu21T4bbA"
      },
      "execution_count": null,
      "outputs": []
    }
  ]
}